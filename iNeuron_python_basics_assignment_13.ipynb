{
 "cells": [
  {
   "cell_type": "markdown",
   "id": "768f62cf",
   "metadata": {},
   "source": [
    "1. What advantages do Excel spreadsheets have over CSV spreadsheets?"
   ]
  },
  {
   "cell_type": "markdown",
   "id": "24631493",
   "metadata": {},
   "source": [
    "Ans: The Advantages of Excel over CSV are:\n",
    "\n",
    "1. Excel (XLS and XLSX) file formats are better for storing and analysing complex data.\n",
    "\n",
    "2. An Excel not only stores data but can also do operations on the data using macros, formulas etc.\n",
    "\n",
    "3. CSV files are plain-text files, Does not contain formatting, formulas, macros, etc. It is also known as flat files"
   ]
  },
  {
   "cell_type": "markdown",
   "id": "f6779f6a",
   "metadata": {},
   "source": [
    "2.What do you pass to csv.reader() and csv.writer() to create reader and writer objects?"
   ]
  },
  {
   "cell_type": "code",
   "execution_count": null,
   "id": "510c3987",
   "metadata": {},
   "outputs": [],
   "source": [
    "# reading a file\n",
    "\n",
    "import csv\n",
    "with open('text.csv','r') as file:\n",
    "    csv_file = csv.reader(file,delimiter=',')\n",
    "    for ele in csv_file:\n",
    "        print(ele)\n",
    "\n",
    "\n",
    "        \n",
    "# writing a file\n",
    "\n",
    "import csv  \n",
    "\n",
    "header = ['name', 'area', 'country_code2', 'country_code3']\n",
    "data = ['Afghanistan', 652090, 'AF', 'AFG']\n",
    "\n",
    "with open('countries.csv', 'w', encoding='UTF8') as f:\n",
    "    writer = csv.writer(f)\n",
    "\n",
    "    # write the header\n",
    "    writer.writerow(header)\n",
    "\n",
    "    # write the data\n",
    "    writer.writerow(data)"
   ]
  },
  {
   "cell_type": "markdown",
   "id": "bf764272",
   "metadata": {},
   "source": [
    "3. What modes do File objects for reader and writer objects need to be opened in?"
   ]
  },
  {
   "cell_type": "markdown",
   "id": "dce80004",
   "metadata": {},
   "source": [
    "Ans: For csv.reader(iterable_file_object), the file objects needed to be opened in read mode mode='r'\n",
    "\n",
    "For csv.writer(iterable_file_object) the file objects needed to be opened in write mode mode='w'"
   ]
  },
  {
   "cell_type": "markdown",
   "id": "c48634f2",
   "metadata": {},
   "source": [
    "4. What method takes a list argument and writes it to a CSV file?"
   ]
  },
  {
   "cell_type": "markdown",
   "id": "2a02a2c0",
   "metadata": {},
   "source": [
    "Ans: csv.writer class provides two methods for writing to CSV. They are writerow() and writerows(). writerow() method writes a single row at a time. Whereas writerows() method is used to write multiple rows at a time."
   ]
  },
  {
   "cell_type": "markdown",
   "id": "8cbeb99a",
   "metadata": {},
   "source": [
    "5. What do the keyword arguments delimiter and line terminator do?"
   ]
  },
  {
   "cell_type": "markdown",
   "id": "05393517",
   "metadata": {},
   "source": [
    "Ans: The delimiter is the character that appears between cells on a row. By default, the delimiter for a CSV file is a comma. The line terminator is the character that comes at the end of a row. By default, the line terminator is a newline.\n",
    "\n",
    "\n",
    "First Name, Last Name, Age\n",
    "Mano, Vishnu, 24\n",
    "Vishnu, Vardhan, 21\n",
    "\n",
    "Here ',' is Delimiter. We can use any Character as per our needs if required. Similarly Line Terminator comes at end of line by default it is newline and can be changed accourding to Requirement."
   ]
  },
  {
   "cell_type": "markdown",
   "id": "389b71bf",
   "metadata": {},
   "source": [
    "6. What function takes a string of JSON data and returns a Python data structure?"
   ]
  },
  {
   "cell_type": "markdown",
   "id": "214ca01f",
   "metadata": {},
   "source": [
    "Ans: loads() method takes a string of JSON data and returns a Python data structure"
   ]
  },
  {
   "cell_type": "code",
   "execution_count": 7,
   "id": "2cab364b",
   "metadata": {},
   "outputs": [
    {
     "name": "stdout",
     "output_type": "stream",
     "text": [
      "<class 'str'>\n",
      "<class 'dict'>\n",
      "{'Name': 'abc def', 'Contact Number': 123456789, 'Email': 'abcdef@gmail.com'}\n"
     ]
    }
   ],
   "source": [
    "import json\n",
    "dict_1 = '''{\n",
    "    \"Name\": \"abc def\",\n",
    "    \"Contact Number\": 123456789,\n",
    "    \"Email\": \"abcdef@gmail.com\"\n",
    "    }'''\n",
    "  \n",
    "# parse dict_1:\n",
    "y = json.loads(dict_1)\n",
    "print(type(dict_1))\n",
    "# the result is a Python dictionary:\n",
    "print(type(y))\n",
    "print(y)"
   ]
  },
  {
   "cell_type": "markdown",
   "id": "46073558",
   "metadata": {},
   "source": [
    "7. What function takes a Python data structure and returns a string of JSON data?"
   ]
  },
  {
   "cell_type": "markdown",
   "id": "ac7d8ffd",
   "metadata": {},
   "source": [
    "Ans: dumps() method takes a python data structure and returns a string of JSON data"
   ]
  },
  {
   "cell_type": "code",
   "execution_count": 11,
   "id": "25cac570",
   "metadata": {},
   "outputs": [
    {
     "name": "stdout",
     "output_type": "stream",
     "text": [
      "{\n",
      "    \"Contact Number\": 123456789,\n",
      "    \"Email\": \"abcdef@gmail.com\",\n",
      "    \"Name\": \"abc def\"\n",
      "}\n"
     ]
    }
   ],
   "source": [
    "import json\n",
    "dict_1 = {\n",
    "    \"Name\": \"abc def\",\n",
    "    \"Contact Number\": 123456789,\n",
    "    \"Email\": \"abcdef@gmail.com\"\n",
    "    }\n",
    "y = json.dumps(dict_1, indent=4, sort_keys=True)\n",
    "print(y)"
   ]
  },
  {
   "cell_type": "code",
   "execution_count": null,
   "id": "82419ceb",
   "metadata": {},
   "outputs": [],
   "source": []
  }
 ],
 "metadata": {
  "kernelspec": {
   "display_name": "Python 3 (ipykernel)",
   "language": "python",
   "name": "python3"
  },
  "language_info": {
   "codemirror_mode": {
    "name": "ipython",
    "version": 3
   },
   "file_extension": ".py",
   "mimetype": "text/x-python",
   "name": "python",
   "nbconvert_exporter": "python",
   "pygments_lexer": "ipython3",
   "version": "3.9.12"
  },
  "toc": {
   "base_numbering": 1,
   "nav_menu": {},
   "number_sections": true,
   "sideBar": true,
   "skip_h1_title": false,
   "title_cell": "Table of Contents",
   "title_sidebar": "Contents",
   "toc_cell": false,
   "toc_position": {},
   "toc_section_display": true,
   "toc_window_display": false
  }
 },
 "nbformat": 4,
 "nbformat_minor": 5
}
